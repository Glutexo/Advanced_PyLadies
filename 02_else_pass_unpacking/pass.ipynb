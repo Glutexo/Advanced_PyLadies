{
 "cells": [
  {
   "cell_type": "markdown",
   "metadata": {},
   "source": [
    "# `pass`"
   ]
  },
  {
   "cell_type": "markdown",
   "metadata": {},
   "source": [
    "Při psaní kódu v Pythonu občas narazíme na pravidla, která mají svá opodstatnění, nám ale v konkrétní situaci mohou znepříjemnit život.\n",
    "\n",
    "Jedním z takových pravidel, na která už jsi možná narazila, je, že některé konstrukce (např. `if`, `except`, `def`, `class` atp.) nesmí být následovány prázdným řádkem.\n",
    "\n",
    "Například chceme-li si definovat funkci, ale ještě nevíme přesně, co by měla dělat. Nebo máme rozvětvenou kombinaci `if`-`elif`-`else` a jednu větev chceme prozatím nechat prázdnou. Nebo chceme odchytávat výjimku, ale nechceme na ni nijak reagovat.\n",
    "\n",
    "To všechno jsou příklady situací, ve kterých bychom rádi nechali v tom či onom bloku jen prázdný řádek, ale nemůžeme, protože by to skončilo chybou. Například u definice prázdné funkce:"
   ]
  },
  {
   "cell_type": "code",
   "execution_count": 1,
   "metadata": {},
   "outputs": [
    {
     "ename": "IndentationError",
     "evalue": "expected an indented block (<ipython-input-1-5730d903fe68>, line 4)",
     "output_type": "error",
     "traceback": [
      "\u001b[0;36m  File \u001b[0;32m\"<ipython-input-1-5730d903fe68>\"\u001b[0;36m, line \u001b[0;32m4\u001b[0m\n\u001b[0;31m    def jina_funkce_ktera_uz_je_hotova(argument):\u001b[0m\n\u001b[0m      ^\u001b[0m\n\u001b[0;31mIndentationError\u001b[0m\u001b[0;31m:\u001b[0m expected an indented block\n"
     ]
    }
   ],
   "source": [
    "def funkce_na_ktere_budu_pracovat_pak(argument1, argument2):\n",
    "    \n",
    "\n",
    "def jina_funkce_ktera_uz_je_hotova(argument):\n",
    "    return argument ** 5\n"
   ]
  },
  {
   "cell_type": "markdown",
   "metadata": {},
   "source": [
    "Nebo u větvení, kde chceme mít nadefinovány všechny možnosti, ale u některých z nich ještě nemáme promyšleno, co by měly dělat."
   ]
  },
  {
   "cell_type": "code",
   "execution_count": 2,
   "metadata": {},
   "outputs": [
    {
     "ename": "IndentationError",
     "evalue": "expected an indented block (<ipython-input-2-2ca203ad46db>, line 9)",
     "output_type": "error",
     "traceback": [
      "\u001b[0;36m  File \u001b[0;32m\"<ipython-input-2-2ca203ad46db>\"\u001b[0;36m, line \u001b[0;32m9\u001b[0m\n\u001b[0;31m    else:\u001b[0m\n\u001b[0m       ^\u001b[0m\n\u001b[0;31mIndentationError\u001b[0m\u001b[0;31m:\u001b[0m expected an indented block\n"
     ]
    }
   ],
   "source": [
    "rychlost = 150\n",
    "\n",
    "if rychlost > 130:\n",
    "    print('Jedeš moc rychle')\n",
    "elif rychlost > 90:\n",
    "    print('Opatrně')\n",
    "elif rychlost > 0:\n",
    "    # Tady by něco mělo být, ale chci to dopsat později\n",
    "else:\n",
    "    print('Záporná rychlost? Couváš?')"
   ]
  },
  {
   "cell_type": "markdown",
   "metadata": {},
   "source": [
    "A co příklad odchycení výjimky, na kterou ale nechceme nijak reagovat? V tomto případě nám může být úplně jedno, že soubor neexistuje a pokus o jeho smazání vyvolal výjimku."
   ]
  },
  {
   "cell_type": "code",
   "execution_count": 3,
   "metadata": {},
   "outputs": [
    {
     "ename": "IndentationError",
     "evalue": "expected an indented block (<ipython-input-3-8695e3b149aa>, line 8)",
     "output_type": "error",
     "traceback": [
      "\u001b[0;36m  File \u001b[0;32m\"<ipython-input-3-8695e3b149aa>\"\u001b[0;36m, line \u001b[0;32m8\u001b[0m\n\u001b[0;31m    print('Jedeme dál')\u001b[0m\n\u001b[0m        ^\u001b[0m\n\u001b[0;31mIndentationError\u001b[0m\u001b[0;31m:\u001b[0m expected an indented block\n"
     ]
    }
   ],
   "source": [
    "import os\n",
    "\n",
    "try:\n",
    "    os.remove('soubor_ke_smazani.txt')\n",
    "except OSError:\n",
    "    \n",
    "\n",
    "print('Jedeme dál')"
   ]
  },
  {
   "cell_type": "markdown",
   "metadata": {},
   "source": [
    "Na všechny tyto příklady existuje jedno řešení – klauzule `pass`. Samotné `pass` neudělá vůbec nic a nemá v kódu ani žádný speciální význam. Je tam jen proto, aby tam nějaký kód byl a my se zbavili chyby z předchozích příkladů. Ty by při použití `pass` mohly vypadat následovně:"
   ]
  },
  {
   "cell_type": "code",
   "execution_count": 4,
   "metadata": {},
   "outputs": [],
   "source": [
    "def funkce_na_ktere_budu_pracovat_pak(argument1, argument2):\n",
    "    pass\n",
    "\n",
    "def jina_funkce_ktera_uz_je_hotova(argument):\n",
    "    return argument ** 5\n"
   ]
  },
  {
   "cell_type": "code",
   "execution_count": 5,
   "metadata": {},
   "outputs": [
    {
     "name": "stdout",
     "output_type": "stream",
     "text": [
      "Jedeš moc rychle\n"
     ]
    }
   ],
   "source": [
    "rychlost = 150\n",
    "\n",
    "if rychlost > 130:\n",
    "    print('Jedeš moc rychle')\n",
    "elif rychlost > 90:\n",
    "    print('Opatrně')\n",
    "elif rychlost > 10:\n",
    "    pass\n",
    "else:\n",
    "    print('Záporná rychlost? Couváš?')"
   ]
  },
  {
   "cell_type": "code",
   "execution_count": 6,
   "metadata": {},
   "outputs": [
    {
     "name": "stdout",
     "output_type": "stream",
     "text": [
      "Jedeme dál\n"
     ]
    }
   ],
   "source": [
    "import os\n",
    "\n",
    "try:\n",
    "    os.remove('soubor_ke_smazani.txt')\n",
    "except OSError:\n",
    "    pass\n",
    "\n",
    "print('Jedeme dál')"
   ]
  },
  {
   "cell_type": "markdown",
   "metadata": {},
   "source": [
    "Pro úplnost dodejme, že stejnou funkci by splnil i `\"\"\"dokumentační řetězec\"\"\"` (**nikoli `# komentář`**). Například u funkcí by mohl být i užitečnější než `pass` a mohl by obsahovat i vysvětlení, proč je prozatím funkce prázdná."
   ]
  }
 ],
 "metadata": {
  "kernelspec": {
   "display_name": "Python 3",
   "language": "python",
   "name": "python3"
  },
  "language_info": {
   "codemirror_mode": {
    "name": "ipython",
    "version": 3
   },
   "file_extension": ".py",
   "mimetype": "text/x-python",
   "name": "python",
   "nbconvert_exporter": "python",
   "pygments_lexer": "ipython3",
   "version": "3.6.5"
  }
 },
 "nbformat": 4,
 "nbformat_minor": 2
}
