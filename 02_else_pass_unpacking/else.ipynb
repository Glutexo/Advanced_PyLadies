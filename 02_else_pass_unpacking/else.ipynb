{
 "cells": [
  {
   "cell_type": "markdown",
   "metadata": {},
   "source": [
    "# Else"
   ]
  },
  {
   "cell_type": "markdown",
   "metadata": {},
   "source": [
    "Klauzuli `else` už moc dobře známe z podmíněného větvení programu a poslouží nám také při odchytávání výjimek. Dnes si k tomu přidáme ještě i ne příliš známé využití v cyklech."
   ]
  },
  {
   "cell_type": "markdown",
   "metadata": {},
   "source": [
    "## If, elif a else"
   ]
  },
  {
   "cell_type": "markdown",
   "metadata": {},
   "source": [
    "Začneme rychlým opakováním toho nejznámějšího použití `else` při větvení programu."
   ]
  },
  {
   "cell_type": "code",
   "execution_count": 1,
   "metadata": {},
   "outputs": [
    {
     "name": "stdout",
     "output_type": "stream",
     "text": [
      "X je příliš malé\n"
     ]
    }
   ],
   "source": [
    "x = 10\n",
    "\n",
    "if x > 100:\n",
    "    print('X je větší než jedno sto')\n",
    "elif x > 20:\n",
    "    print('X je většį než dvacet')\n",
    "else:\n",
    "    print('X je příliš malé')"
   ]
  },
  {
   "cell_type": "markdown",
   "metadata": {},
   "source": [
    "Tohle prozatím není žádná raketová věda. Pokud zkrátka není splněna žádná z podmínek (`if` či `elif`) větvení programu, dojde se při jejich vyhodnocování až na konec a provede se obsah větve `else`. Pokud se `else` rozhodneš použít, musíš jej umístit až na samotný konec větvení."
   ]
  },
  {
   "cell_type": "markdown",
   "metadata": {},
   "source": [
    "## Try, except, else a finally"
   ]
  },
  {
   "cell_type": "markdown",
   "metadata": {},
   "source": [
    "`else` najde své uplatnění i při odchytávání výjimek. V tomto případě se kód v bloku `else` provede tehdy, když kód v bloku `try` nevyvolal výjimku. Vyzkoušej si to:"
   ]
  },
  {
   "cell_type": "code",
   "execution_count": 2,
   "metadata": {},
   "outputs": [
    {
     "name": "stdout",
     "output_type": "stream",
     "text": [
      "Zkusme dělit nulou ...\n",
      "CHYBA: Nelze dělit nulou!\n",
      "Konec ukázky\n"
     ]
    }
   ],
   "source": [
    "try:\n",
    "    print('Zkusme dělit nulou ...')\n",
    "    x = 10 / 0  # !!!\n",
    "except Exception:\n",
    "    print('CHYBA: Nelze dělit nulou!')\n",
    "else:\n",
    "    print('K vyvolání výjimky nedošlo')\n",
    "finally:\n",
    "    print('Konec ukázky')"
   ]
  },
  {
   "cell_type": "markdown",
   "metadata": {},
   "source": [
    "V tomo případě náš ukázkový kód obsahuje řádek, který výjimku vyvolá a proto se neprovede blok `else`. Vezměme to postupně:\n",
    "\n",
    "1. Blok `try` se provede vždy. V něm je umístěn kód, u kterého očekáváme, že by mohlo k vyvolání výjimky dojít - například při zpracování vstupu od uživatele či při čtení z exteního souboru.\n",
    "2. Blok `except` se provede právě tehdy, pokud v bloku `try` k vyvolání výjimky došlo. Bloků `except` můžeme mít i více a u každého z nich mít definováno, kterou výjimku má odchytit.\n",
    "3. Blok `else`, který by se provedl v tom případě, kdyby k vyvolání výjimky nedošlo.\n",
    "4. A jako poslední blok `finally`, který se provede vždy bez ohledu na to, zda k vyvolání výjimky došlo či nikoli."
   ]
  },
  {
   "cell_type": "markdown",
   "metadata": {},
   "source": [
    "V následujícím příkladu kód výjimku nevyvolá a blok `else` se tedy dle očekávání provede."
   ]
  },
  {
   "cell_type": "code",
   "execution_count": 3,
   "metadata": {},
   "outputs": [
    {
     "name": "stdout",
     "output_type": "stream",
     "text": [
      "Zkusme dělit nulou ...\n",
      "K vyvolání výjimky nedošlo\n",
      "Konec ukázky\n"
     ]
    }
   ],
   "source": [
    "try:\n",
    "    print('Zkusme dělit nulou ...')\n",
    "    x = 10 / 2\n",
    "except ZeroDivisionError:\n",
    "    print('CHYBA: Nelze dělit nulou!')\n",
    "else:\n",
    "    print('K vyvolání výjimky nedošlo')\n",
    "finally:\n",
    "    print('Konec ukázky')"
   ]
  },
  {
   "cell_type": "markdown",
   "metadata": {},
   "source": [
    "Na posledním příkladu s `else` si můžeš vyzkoušet, že blok `else` se neprovede při vyvolání výjimky bez ohledu na to, zda je výjimka správně odchycena. Konkrétně v tomto případě se snažíme odchytit výjimku `ValueError`, ale místo toho nastala výjimka `ZeroDivisionError`."
   ]
  },
  {
   "cell_type": "code",
   "execution_count": 4,
   "metadata": {},
   "outputs": [
    {
     "name": "stdout",
     "output_type": "stream",
     "text": [
      "Zkusme dělit nulou ...\n",
      "Konec ukázky\n"
     ]
    },
    {
     "ename": "ZeroDivisionError",
     "evalue": "division by zero",
     "output_type": "error",
     "traceback": [
      "\u001b[0;31m---------------------------------------------------------------------------\u001b[0m",
      "\u001b[0;31mZeroDivisionError\u001b[0m                         Traceback (most recent call last)",
      "\u001b[0;32m<ipython-input-4-78d58d3e38a5>\u001b[0m in \u001b[0;36m<module>\u001b[0;34m()\u001b[0m\n\u001b[1;32m      1\u001b[0m \u001b[0;32mtry\u001b[0m\u001b[0;34m:\u001b[0m\u001b[0;34m\u001b[0m\u001b[0m\n\u001b[1;32m      2\u001b[0m     \u001b[0mprint\u001b[0m\u001b[0;34m(\u001b[0m\u001b[0;34m'Zkusme dělit nulou ...'\u001b[0m\u001b[0;34m)\u001b[0m\u001b[0;34m\u001b[0m\u001b[0m\n\u001b[0;32m----> 3\u001b[0;31m     \u001b[0mx\u001b[0m \u001b[0;34m=\u001b[0m \u001b[0;36m10\u001b[0m \u001b[0;34m/\u001b[0m \u001b[0;36m0\u001b[0m  \u001b[0;31m# !!!\u001b[0m\u001b[0;34m\u001b[0m\u001b[0m\n\u001b[0m\u001b[1;32m      4\u001b[0m \u001b[0;32mexcept\u001b[0m \u001b[0mValueError\u001b[0m\u001b[0;34m:\u001b[0m\u001b[0;34m\u001b[0m\u001b[0m\n\u001b[1;32m      5\u001b[0m     \u001b[0mprint\u001b[0m\u001b[0;34m(\u001b[0m\u001b[0;34m'CHYBA: Nelze dělit nulou!'\u001b[0m\u001b[0;34m)\u001b[0m\u001b[0;34m\u001b[0m\u001b[0m\n",
      "\u001b[0;31mZeroDivisionError\u001b[0m: division by zero"
     ]
    }
   ],
   "source": [
    "try:\n",
    "    print('Zkusme dělit nulou ...')\n",
    "    x = 10 / 0  # !!!\n",
    "except ValueError:\n",
    "    print('CHYBA: Nelze dělit nulou!')\n",
    "else:\n",
    "    print('K vyvolání výjimky nedošlo')\n",
    "finally:\n",
    "    print('Konec ukázky')"
   ]
  },
  {
   "cell_type": "markdown",
   "metadata": {},
   "source": [
    "### Vícenásobný except"
   ]
  },
  {
   "cell_type": "markdown",
   "metadata": {},
   "source": [
    "Pokud je bloků `except` více a několik z nich vyhovyje vyvolané výjimce, provede se vždy ten dříve definovaný. Například  výjimka `ArithmeticError` je obecnější výjimka než `ZeroDivisionError` - přesněji je výjimka `ArithmeticErrro` v hierarchii výjimek nadřazena výjimce `ZeroDivisionError` - a proto je odchycena a ve vyhodnocování dalších výjimek se nepokračuje. Hierarchie výjimek je k nalezení [v dokumentaci](https://docs.python.org/3/library/exceptions.html#exception-hierarchy)."
   ]
  },
  {
   "cell_type": "code",
   "execution_count": 5,
   "metadata": {},
   "outputs": [
    {
     "name": "stdout",
     "output_type": "stream",
     "text": [
      "Zkusme dělit nulou ...\n",
      "CHYBA: nějaká aritmetická\n",
      "Konec ukázky\n"
     ]
    }
   ],
   "source": [
    "try:\n",
    "    print('Zkusme dělit nulou ...')\n",
    "    x = 10 / 0  # !!!\n",
    "except ArithmeticError:\n",
    "    print('CHYBA: nějaká aritmetická')\n",
    "except ZeroDivisionError:\n",
    "    print('CHYBA: dělení nulou!')\n",
    "else:\n",
    "    print('K vyvolání výjimky nedošlo')\n",
    "finally:\n",
    "    print('Konec ukázky')"
   ]
  },
  {
   "cell_type": "markdown",
   "metadata": {},
   "source": [
    "Správně by se tedy jako první měly odchytávat co možná nejkonkrétnější výjimky a až pak ty obecnější. Tento přístup nám umožní lépe na konkrétní výjimky reagovat a třeba poskytnout i lepší chybové hlášky uživateli."
   ]
  },
  {
   "cell_type": "code",
   "execution_count": 6,
   "metadata": {},
   "outputs": [
    {
     "name": "stdout",
     "output_type": "stream",
     "text": [
      "Zkusme dělit nulou ...\n",
      "CHYBA: dělení nulou!\n",
      "Konec ukázky\n"
     ]
    }
   ],
   "source": [
    "try:\n",
    "    print('Zkusme dělit nulou ...')\n",
    "    x = 10 / 0  # !!!\n",
    "except ZeroDivisionError:\n",
    "    print('CHYBA: dělení nulou!')\n",
    "except ArithmeticError:\n",
    "    print('CHYBA: nějaká aritmetická')\n",
    "except Exception:\n",
    "    print('CHYBA: nějaká obecná')\n",
    "else:\n",
    "    print('K vyvolání výjimky nedošlo')\n",
    "finally:\n",
    "    print('Konec ukázky')"
   ]
  },
  {
   "cell_type": "markdown",
   "metadata": {},
   "source": [
    "## For a While"
   ]
  },
  {
   "cell_type": "markdown",
   "metadata": {},
   "source": [
    "A teď už konečně k onomu nepříliš známému použití `else` v cyklech.\n",
    "\n",
    "Nejdříve ukázka zápisu:"
   ]
  },
  {
   "cell_type": "code",
   "execution_count": 7,
   "metadata": {},
   "outputs": [
    {
     "name": "stdout",
     "output_type": "stream",
     "text": [
      "0\n",
      "1\n",
      "2\n",
      "3\n",
      "4\n",
      "Print v bloku else\n"
     ]
    }
   ],
   "source": [
    "for x in range(5):\n",
    "    print(x)\n",
    "else:\n",
    "    print('Print v bloku else')"
   ]
  },
  {
   "cell_type": "markdown",
   "metadata": {},
   "source": [
    "V této ukázce se nic moc zajímavého nestalo. Provedl se cyklus a hned za ním i kód v bloku `else`.\n",
    "\n",
    "Tady už to ale bude zajímavější:"
   ]
  },
  {
   "cell_type": "code",
   "execution_count": 8,
   "metadata": {},
   "outputs": [
    {
     "name": "stdout",
     "output_type": "stream",
     "text": [
      "0\n",
      "1\n",
      "2\n",
      "3\n"
     ]
    }
   ],
   "source": [
    "for x in range(5):\n",
    "    print(x)\n",
    "    if x > 2:\n",
    "        break\n",
    "else:\n",
    "    print('Print v bloku else')"
   ]
  },
  {
   "cell_type": "markdown",
   "metadata": {},
   "source": [
    "Cyklus `for` jsme nám již dobře známým způsobem ukončili pomocí `break` ve chvíli, kdy `x` začalo nabývat hodnot větších než 2. Daleko zajímavější je ale to, že se v tomto případě neprovedl `print` zapsaný v bloku `else`. Čím to?\n",
    "\n",
    "Blok `else` u `for` cyklu se totiž provede jen tehdy, pokud cyklus dojde až na konec sekvence, kterou prochází. U první ukázky se tak stalo a `for` cyklus prošel všech pět hodnot v sekvenci `range` a dostal se až na její konec. Proto se v první ukázce blok `else` provedl. V druhé ukázce jsme ale for cyklus ukončili pomocí `break` dříve, než se stihl cyklus dostat na konec sekvence a proto se blok `else` nevykonal.\n",
    "\n",
    "Pojďmě si vyskoušet, jak by se toho dalo využít například při hledání čísel v číselné řadě:"
   ]
  },
  {
   "cell_type": "code",
   "execution_count": 9,
   "metadata": {},
   "outputs": [
    {
     "name": "stdout",
     "output_type": "stream",
     "text": [
      "Našli jsme číslo dělitelné pěti beze zbytku: 5\n"
     ]
    }
   ],
   "source": [
    "cisla = [2, 4, 5, 8, 16, 32, 64, 128, 256]\n",
    "\n",
    "for cislo in cisla:\n",
    "    if cislo % 5 == 0:\n",
    "        print('Našli jsme číslo dělitelné pěti beze zbytku:', cislo)\n",
    "        break\n",
    "else:\n",
    "    print('Číslo dělitelné beze zbytku pětkou v seznamu není')"
   ]
  },
  {
   "cell_type": "markdown",
   "metadata": {},
   "source": [
    "V tomto případě se číslo dělitelné pěti v seznamu nachází, my jsme jej při průchodu seznamem našli, vypsali a cyklus jsme ukončili pomoci `break`.\n",
    "\n",
    "Co když ale takové číslo v seznamu nebude:"
   ]
  },
  {
   "cell_type": "code",
   "execution_count": 10,
   "metadata": {},
   "outputs": [
    {
     "name": "stdout",
     "output_type": "stream",
     "text": [
      "Číslo dělitelné beze zbytku pětkou v seznamu není\n"
     ]
    }
   ],
   "source": [
    "cisla = [2, 4, 8, 16, 32, 64, 128, 256]\n",
    "\n",
    "for cislo in cisla:\n",
    "    if cislo % 5 == 0:\n",
    "        print('Našli jsme číslo dělitelné pěti beze zbytku:', cislo)\n",
    "        break\n",
    "else:\n",
    "    print('Číslo dělitelné beze zbytku pětkou v seznamu není')"
   ]
  },
  {
   "cell_type": "markdown",
   "metadata": {},
   "source": [
    "Pokud číslo dělitelné pěti v seznamu nebude a cyklus tedy při prohledávání dojde až na konec, provede se blok `else`. Toho lze využít ve všech podobných případech, kdy potřebujeme v nějaké sekvenci něco najít a pokud to nenajdeme, tak provést nějakou navazující akci.\n",
    "\n",
    "U cyklů `while` je situace velmi podobná, i když se v tomto případě nejedná o zpracování sekvence jako u cyklu `for`. Pokud cyklus `while` skončí sám od sebe - tedy dojde do stavu, kdy podmínka neplatí a proto cyklus končí - blok `else` se provede. Pokud jej ale ukončíme pomocí `break`, blok `else` se nespustí.\n",
    "\n",
    "Zkusme, zda počítač v daném časovém limitu vygeneruje dvakrát stejné náhodně číslo:"
   ]
  },
  {
   "cell_type": "code",
   "execution_count": 11,
   "metadata": {},
   "outputs": [
    {
     "name": "stdout",
     "output_type": "stream",
     "text": [
      "Mám to! Původní číslo bylo 90!\n"
     ]
    }
   ],
   "source": [
    "from time import time\n",
    "from random import randrange\n",
    "\n",
    "# Funkce time() při každém zavolání vrátí aktuální čas v sekundách (od určitého\n",
    "# pevně daného momentu).\n",
    "# Chceme skončit po jedné sekundě:\n",
    "limit = 1\n",
    "cas_konce = time() + limit\n",
    "rozsah_cisel = 100\n",
    "nahodne_cislo = randrange(0, rozsah_cisel)\n",
    "\n",
    "while time() < cas_konce:\n",
    "    dalsi_nahodne_cislo = randrange(0, rozsah_cisel)\n",
    "    if dalsi_nahodne_cislo == nahodne_cislo:\n",
    "        print('Mám to! Původní číslo bylo {}!'.format(nahodne_cislo))\n",
    "        break\n",
    "else:\n",
    "    print('{}s limit počítači nestačil k vygenerování stejného náhodného čísla'.format(limit))"
   ]
  },
  {
   "cell_type": "markdown",
   "metadata": {},
   "source": [
    "V tomto případě počítač vybíral jen ze stovky čísel a proto se mu to povedlo splnit, cyklus se ukončil pomocí break a blok else se tím pádem neprovedl."
   ]
  },
  {
   "cell_type": "code",
   "execution_count": 12,
   "metadata": {},
   "outputs": [
    {
     "name": "stdout",
     "output_type": "stream",
     "text": [
      "1s limit počítači nestačil k vygenerování stejného náhodného čísla\n"
     ]
    }
   ],
   "source": [
    "from time import time\n",
    "from random import randrange\n",
    "\n",
    "# Funkce time() při každém zavolání vrátí aktuální čas v sekundách (od určitého\n",
    "# pevně daného momentu).\n",
    "# Chceme skončit po jedné sekundě:\n",
    "limit = 1\n",
    "cas_konce = time() + limit\n",
    "rozsah_cisel = 1000000000\n",
    "nahodne_cislo = randrange(0, rozsah_cisel)\n",
    "\n",
    "while time() < cas_konce:\n",
    "    dalsi_nahodne_cislo = randrange(0, rozsah_cisel)\n",
    "    if dalsi_nahodne_cislo == nahodne_cislo:\n",
    "        print('Mám to! Původní číslo bylo {}!'.format(nahodne_cislo))\n",
    "        break\n",
    "else:\n",
    "    print('{}s limit počítači nestačil k vygenerování stejného náhodného čísla'.format(limit))"
   ]
  },
  {
   "cell_type": "markdown",
   "metadata": {},
   "source": [
    "Tady už počítač vybíral z miliardy čísel. Jedna sekunda k náhodnému generování stejného čísla byla příliš krátká a tak došel cyklus až do stavu, kdy podmínka pro jeho pokračování neplatila, cyklus se ukončil a provedl se blok `else`."
   ]
  }
 ],
 "metadata": {
  "kernelspec": {
   "display_name": "Python 3",
   "language": "python",
   "name": "python3"
  },
  "language_info": {
   "codemirror_mode": {
    "name": "ipython",
    "version": 3
   },
   "file_extension": ".py",
   "mimetype": "text/x-python",
   "name": "python",
   "nbconvert_exporter": "python",
   "pygments_lexer": "ipython3",
   "version": "3.6.4"
  }
 },
 "nbformat": 4,
 "nbformat_minor": 2
}
