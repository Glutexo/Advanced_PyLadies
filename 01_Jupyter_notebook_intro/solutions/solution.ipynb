{
 "cells": [
  {
   "cell_type": "markdown",
   "metadata": {},
   "source": [
    "# Náhodná věta z odpovědí"
   ]
  },
  {
   "cell_type": "markdown",
   "metadata": {},
   "source": [
    "Definujeme první funkci"
   ]
  },
  {
   "cell_type": "code",
   "execution_count": 1,
   "metadata": {},
   "outputs": [],
   "source": [
    "def ask(question):\n",
    "    \"\"\"Function will ask question until user answers at least something\"\"\"\n",
    "    while True:\n",
    "        answer = input(question + '? ')\n",
    "        if answer:\n",
    "            return answer"
   ]
  },
  {
   "cell_type": "markdown",
   "metadata": {},
   "source": [
    "Definujeme proměnné s otázkami a odpovědmi"
   ]
  },
  {
   "cell_type": "code",
   "execution_count": 2,
   "metadata": {},
   "outputs": [],
   "source": [
    "questions = ['Kdo', 'S kým', 'Kde', 'Co dělali']\n",
    "answers = {}"
   ]
  },
  {
   "cell_type": "markdown",
   "metadata": {},
   "source": [
    "Kód naplní slovník s odpověďmi"
   ]
  },
  {
   "cell_type": "code",
   "execution_count": 3,
   "metadata": {},
   "outputs": [
    {
     "name": "stdout",
     "output_type": "stream",
     "text": [
      "Kdo? Pavel\n",
      "Kdo? Mirek\n",
      "Kdo? Michal\n",
      "Kdo? konec\n",
      "S kým? s Petrou\n",
      "S kým? s Hankou\n",
      "S kým? s Kamilou\n",
      "S kým? konec\n",
      "Kde? doma\n",
      "Kde? na zahradě\n",
      "Kde? na letišti\n",
      "Kde? konec\n",
      "Co dělali? pekli bábovku\n",
      "Co dělali? programovali\n",
      "Co dělali? psali pohádku\n",
      "Co dělali? konec\n"
     ]
    }
   ],
   "source": [
    "for question in questions:\n",
    "    answers[question] = []\n",
    "    while True:\n",
    "        answer = ask(question)\n",
    "        if answer == 'konec':\n",
    "            break\n",
    "        else:\n",
    "            answers[question].append(answer)"
   ]
  },
  {
   "cell_type": "markdown",
   "metadata": {},
   "source": [
    "Zkontrolujeme, zda je v proměnné s odpověďmi vše potřebné"
   ]
  },
  {
   "cell_type": "code",
   "execution_count": 4,
   "metadata": {},
   "outputs": [
    {
     "data": {
      "text/plain": [
       "{'Co dělali': ['pekli bábovku', 'programovali', 'psali pohádku'],\n",
       " 'Kde': ['doma', 'na zahradě', 'na letišti'],\n",
       " 'Kdo': ['Pavel', 'Mirek', 'Michal'],\n",
       " 'S kým': ['s Petrou', 's Hankou', 's Kamilou']}"
      ]
     },
     "execution_count": 4,
     "metadata": {},
     "output_type": "execute_result"
    }
   ],
   "source": [
    "answers"
   ]
  },
  {
   "cell_type": "markdown",
   "metadata": {},
   "source": [
    "Kód, který nám z odpovědí složí výslednou větu"
   ]
  },
  {
   "cell_type": "code",
   "execution_count": 5,
   "metadata": {},
   "outputs": [
    {
     "name": "stdout",
     "output_type": "stream",
     "text": [
      "Mirek s Kamilou doma programovali \n"
     ]
    }
   ],
   "source": [
    "from random import choice\n",
    "\n",
    "sentence = ''\n",
    "for question in questions:\n",
    "    answer = choice(answers[question])\n",
    "    sentence += answer\n",
    "    sentence += ' '\n",
    "\n",
    "print(sentence)"
   ]
  }
 ],
 "metadata": {
  "kernelspec": {
   "display_name": "Python 3",
   "language": "python",
   "name": "python3"
  },
  "language_info": {
   "codemirror_mode": {
    "name": "ipython",
    "version": 3
   },
   "file_extension": ".py",
   "mimetype": "text/x-python",
   "name": "python",
   "nbconvert_exporter": "python",
   "pygments_lexer": "ipython3",
   "version": "3.6.4"
  }
 },
 "nbformat": 4,
 "nbformat_minor": 2
}
